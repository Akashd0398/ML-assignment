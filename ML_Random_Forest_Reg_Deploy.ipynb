{
 "cells": [
  {
   "cell_type": "code",
   "execution_count": 1,
   "id": "634b1a1b-e2ba-4cac-94a7-81d6dc4af0c3",
   "metadata": {},
   "outputs": [],
   "source": [
    "#pickle should be imported to load model\n",
    "import pickle"
   ]
  },
  {
   "cell_type": "code",
   "execution_count": 2,
   "id": "1775d00a-c26c-4ea9-bed3-a097d1d25614",
   "metadata": {},
   "outputs": [
    {
     "name": "stderr",
     "output_type": "stream",
     "text": [
      "C:\\Users\\DELL\\anaconda3\\Lib\\site-packages\\sklearn\\base.py:439: UserWarning: X does not have valid feature names, but RandomForestRegressor was fitted with feature names\n",
      "  warnings.warn(\n"
     ]
    },
    {
     "data": {
      "text/plain": [
       "array([51636.252])"
      ]
     },
     "execution_count": 2,
     "metadata": {},
     "output_type": "execute_result"
    }
   ],
   "source": [
    "#to load model and test in real time\n",
    "Loaded_Model = pickle.load(open(\"Finalised_Model_RFR.sav\",('rb')))\n",
    "Result = Loaded_Model.predict([[1000,2000,3000,0,1]])\n",
    "Result"
   ]
  },
  {
   "cell_type": "code",
   "execution_count": 3,
   "id": "ea1c4b4e-ac3f-4f60-b0f7-35154d2bf4e5",
   "metadata": {},
   "outputs": [
    {
     "name": "stdin",
     "output_type": "stream",
     "text": [
      "Enter the R&D Spend :  1000\n",
      "Enter the Admin Spend :  2000\n",
      "Enter the R&D Spend :  3000\n",
      "Enter the State_Florida :  0\n",
      "Enter the State_NewYork :  1\n"
     ]
    },
    {
     "name": "stdout",
     "output_type": "stream",
     "text": [
      "Profit is : [51636.252]\n"
     ]
    },
    {
     "name": "stderr",
     "output_type": "stream",
     "text": [
      "C:\\Users\\DELL\\anaconda3\\Lib\\site-packages\\sklearn\\base.py:439: UserWarning: X does not have valid feature names, but RandomForestRegressor was fitted with feature names\n",
      "  warnings.warn(\n"
     ]
    }
   ],
   "source": [
    "#Below code show how we can get input from user\n",
    "RandD_Spend = int(input(\"Enter the R&D Spend : \"))\n",
    "Admin_Spend = int(input(\"Enter the Admin Spend : \"))\n",
    "Marketting_Spend = int(input(\"Enter the R&D Spend : \"))\n",
    "State_Florida = int(input(\"Enter the State_Florida : \"))\n",
    "State_NewYork = int(input(\"Enter the State_NewYork : \"))\n",
    "Result = Loaded_Model.predict([[RandD_Spend,Admin_Spend,Marketting_Spend,State_Florida,State_NewYork]])\n",
    "Profit = print(\"Profit is :\",Result)"
   ]
  },
  {
   "cell_type": "code",
   "execution_count": null,
   "id": "54263dbb-b902-4bdf-ae3c-2da7b2d395d6",
   "metadata": {},
   "outputs": [],
   "source": []
  }
 ],
 "metadata": {
  "kernelspec": {
   "display_name": "Python 3 (ipykernel)",
   "language": "python",
   "name": "python3"
  },
  "language_info": {
   "codemirror_mode": {
    "name": "ipython",
    "version": 3
   },
   "file_extension": ".py",
   "mimetype": "text/x-python",
   "name": "python",
   "nbconvert_exporter": "python",
   "pygments_lexer": "ipython3",
   "version": "3.11.7"
  }
 },
 "nbformat": 4,
 "nbformat_minor": 5
}
