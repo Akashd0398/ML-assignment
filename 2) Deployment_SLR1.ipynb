{
 "cells": [
  {
   "cell_type": "code",
   "execution_count": 3,
   "id": "40d28193-e326-4a61-9d13-d23fc2e4bb2a",
   "metadata": {},
   "outputs": [],
   "source": [
    "#pickle should be imported to load model\n",
    "import pickle"
   ]
  },
  {
   "cell_type": "code",
   "execution_count": 7,
   "id": "7c264d3a-30c2-41b9-9c18-731fbbc15e02",
   "metadata": {},
   "outputs": [
    {
     "name": "stderr",
     "output_type": "stream",
     "text": [
      "C:\\Users\\DELL\\anaconda3\\Lib\\site-packages\\sklearn\\base.py:439: UserWarning: X does not have valid feature names, but LinearRegression was fitted with feature names\n",
      "  warnings.warn(\n"
     ]
    },
    {
     "data": {
      "text/plain": [
       "array([[167181.3106341]])"
      ]
     },
     "execution_count": 7,
     "metadata": {},
     "output_type": "execute_result"
    }
   ],
   "source": [
    "Loaded_Model = pickle.load(open(\"Finalised_Model_SLR1.sav\",('rb')))\n",
    "#below code executes by input passed in program\n",
    "Result = Loaded_Model.predict([[15]])\n",
    "Result"
   ]
  },
  {
   "cell_type": "code",
   "execution_count": 8,
   "id": "0d60a88c-07ce-41b5-ba85-b67bbc6e098d",
   "metadata": {},
   "outputs": [
    {
     "name": "stdin",
     "output_type": "stream",
     "text": [
      "Enter the experience 15\n"
     ]
    },
    {
     "name": "stdout",
     "output_type": "stream",
     "text": [
      "salary is : [[167181.3106341]]\n"
     ]
    },
    {
     "name": "stderr",
     "output_type": "stream",
     "text": [
      "C:\\Users\\DELL\\anaconda3\\Lib\\site-packages\\sklearn\\base.py:439: UserWarning: X does not have valid feature names, but LinearRegression was fitted with feature names\n",
      "  warnings.warn(\n"
     ]
    }
   ],
   "source": [
    "#Below code show how we can get input from user\n",
    "Experience = int(input(\"Enter the experience\"))\n",
    "Result = Loaded_Model.predict([[Experience]])\n",
    "Salary = print(\"salary is :\",Result)"
   ]
  },
  {
   "cell_type": "code",
   "execution_count": null,
   "id": "61e920c5-65c2-4e81-863a-3e2f37199b38",
   "metadata": {},
   "outputs": [],
   "source": []
  }
 ],
 "metadata": {
  "kernelspec": {
   "display_name": "Python 3 (ipykernel)",
   "language": "python",
   "name": "python3"
  },
  "language_info": {
   "codemirror_mode": {
    "name": "ipython",
    "version": 3
   },
   "file_extension": ".py",
   "mimetype": "text/x-python",
   "name": "python",
   "nbconvert_exporter": "python",
   "pygments_lexer": "ipython3",
   "version": "3.11.7"
  }
 },
 "nbformat": 4,
 "nbformat_minor": 5
}
